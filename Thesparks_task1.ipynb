{
  "nbformat": 4,
  "nbformat_minor": 0,
  "metadata": {
    "colab": {
      "name": "Thesparks_task1.ipynb",
      "provenance": [],
      "collapsed_sections": [],
      "authorship_tag": "ABX9TyO88VuyaYkITdrJoez8tnl0",
      "include_colab_link": true
    },
    "kernelspec": {
      "name": "python3",
      "display_name": "Python 3"
    }
  },
  "cells": [
    {
      "cell_type": "markdown",
      "metadata": {
        "id": "view-in-github",
        "colab_type": "text"
      },
      "source": [
        "<a href=\"https://colab.research.google.com/github/sadhna7/Supervised_ml_score_prediction/blob/main/Thesparks_task1.ipynb\" target=\"_parent\"><img src=\"https://colab.research.google.com/assets/colab-badge.svg\" alt=\"Open In Colab\"/></a>"
      ]
    },
    {
      "cell_type": "markdown",
      "metadata": {
        "id": "yXNzhFE0Tbhk"
      },
      "source": [
        "## SADHNA ROHILLA##"
      ]
    },
    {
      "cell_type": "markdown",
      "metadata": {
        "id": "njVEJ4ApTuP3"
      },
      "source": [
        "## THE SPARKS FOUNDATION"
      ]
    },
    {
      "cell_type": "markdown",
      "metadata": {
        "id": "jatn9p89_KMu"
      },
      "source": [
        "#TASK1. Predict the percentage of a student based on the number of study hours.#\r\n",
        "\r\n",
        "Firstly, we will import the necessary libraries and have a look at the data."
      ]
    },
    {
      "cell_type": "markdown",
      "metadata": {
        "id": "bqeqZD7l-___"
      },
      "source": [
        "## 1. IMPORT LIBRARIES ##"
      ]
    },
    {
      "cell_type": "code",
      "metadata": {
        "id": "yrUCyckA_HWJ"
      },
      "source": [
        "import pandas as pd\r\n",
        "import numpy as np\r\n",
        "import matplotlib.pyplot as plt\r\n",
        "%matplotlib inline\r\n",
        "import seaborn as sns"
      ],
      "execution_count": 1,
      "outputs": []
    },
    {
      "cell_type": "markdown",
      "metadata": {
        "id": "jVJ5juAPD2Hd"
      },
      "source": [
        "## 2. VIEWING DATASET##"
      ]
    },
    {
      "cell_type": "code",
      "metadata": {
        "colab": {
          "base_uri": "https://localhost:8080/"
        },
        "id": "p1grtOVaDRWZ",
        "outputId": "0677f906-2475-4338-9df5-fe3afcd67341"
      },
      "source": [
        "file = \"http://bit.ly/w-data\"\r\n",
        "dataset = pd.read_csv(file)\r\n",
        "print(\"Dataset imported\")"
      ],
      "execution_count": 2,
      "outputs": [
        {
          "output_type": "stream",
          "text": [
            "Dataset imported\n"
          ],
          "name": "stdout"
        }
      ]
    },
    {
      "cell_type": "code",
      "metadata": {
        "colab": {
          "base_uri": "https://localhost:8080/"
        },
        "id": "73A6hKEmHPpb",
        "outputId": "e8e9464f-1a53-4f69-b4e3-04ea94fcc09e"
      },
      "source": [
        "dataset.shape     #to find out how many variables are there and how big is data."
      ],
      "execution_count": 3,
      "outputs": [
        {
          "output_type": "execute_result",
          "data": {
            "text/plain": [
              "(25, 2)"
            ]
          },
          "metadata": {
            "tags": []
          },
          "execution_count": 3
        }
      ]
    },
    {
      "cell_type": "code",
      "metadata": {
        "colab": {
          "base_uri": "https://localhost:8080/",
          "height": 204
        },
        "id": "BC8QWBXzHWzu",
        "outputId": "0d7a216a-cb4c-4bcd-cffa-236bbbe1a77d"
      },
      "source": [
        "dataset.head(5)   # it lists  rows from the top of a dataframe."
      ],
      "execution_count": 4,
      "outputs": [
        {
          "output_type": "execute_result",
          "data": {
            "text/html": [
              "<div>\n",
              "<style scoped>\n",
              "    .dataframe tbody tr th:only-of-type {\n",
              "        vertical-align: middle;\n",
              "    }\n",
              "\n",
              "    .dataframe tbody tr th {\n",
              "        vertical-align: top;\n",
              "    }\n",
              "\n",
              "    .dataframe thead th {\n",
              "        text-align: right;\n",
              "    }\n",
              "</style>\n",
              "<table border=\"1\" class=\"dataframe\">\n",
              "  <thead>\n",
              "    <tr style=\"text-align: right;\">\n",
              "      <th></th>\n",
              "      <th>Hours</th>\n",
              "      <th>Scores</th>\n",
              "    </tr>\n",
              "  </thead>\n",
              "  <tbody>\n",
              "    <tr>\n",
              "      <th>0</th>\n",
              "      <td>2.5</td>\n",
              "      <td>21</td>\n",
              "    </tr>\n",
              "    <tr>\n",
              "      <th>1</th>\n",
              "      <td>5.1</td>\n",
              "      <td>47</td>\n",
              "    </tr>\n",
              "    <tr>\n",
              "      <th>2</th>\n",
              "      <td>3.2</td>\n",
              "      <td>27</td>\n",
              "    </tr>\n",
              "    <tr>\n",
              "      <th>3</th>\n",
              "      <td>8.5</td>\n",
              "      <td>75</td>\n",
              "    </tr>\n",
              "    <tr>\n",
              "      <th>4</th>\n",
              "      <td>3.5</td>\n",
              "      <td>30</td>\n",
              "    </tr>\n",
              "  </tbody>\n",
              "</table>\n",
              "</div>"
            ],
            "text/plain": [
              "   Hours  Scores\n",
              "0    2.5      21\n",
              "1    5.1      47\n",
              "2    3.2      27\n",
              "3    8.5      75\n",
              "4    3.5      30"
            ]
          },
          "metadata": {
            "tags": []
          },
          "execution_count": 4
        }
      ]
    },
    {
      "cell_type": "markdown",
      "metadata": {
        "id": "RLcDGFlkE5Su"
      },
      "source": [
        "## 3. DATA PREPROCESSING##\r\n",
        "\r\n",
        "Here, we will try to  format our data and prepare for further analysis."
      ]
    },
    {
      "cell_type": "code",
      "metadata": {
        "colab": {
          "base_uri": "https://localhost:8080/"
        },
        "id": "dWkl4kLPEsgZ",
        "outputId": "f6cb9ace-281e-4d12-88fc-6bf2043080e4"
      },
      "source": [
        "#Evaluating missing values\r\n",
        "missing_data = dataset.isnull().sum()\r\n",
        "missing_data"
      ],
      "execution_count": 5,
      "outputs": [
        {
          "output_type": "execute_result",
          "data": {
            "text/plain": [
              "Hours     0\n",
              "Scores    0\n",
              "dtype: int64"
            ]
          },
          "metadata": {
            "tags": []
          },
          "execution_count": 5
        }
      ]
    },
    {
      "cell_type": "code",
      "metadata": {
        "colab": {
          "base_uri": "https://localhost:8080/"
        },
        "id": "UeW4FZFGGrOz",
        "outputId": "64bff447-5e3f-4864-8599-370a24f686a6"
      },
      "source": [
        "dataset.dtypes  #it tells the data format."
      ],
      "execution_count": 6,
      "outputs": [
        {
          "output_type": "execute_result",
          "data": {
            "text/plain": [
              "Hours     float64\n",
              "Scores      int64\n",
              "dtype: object"
            ]
          },
          "metadata": {
            "tags": []
          },
          "execution_count": 6
        }
      ]
    },
    {
      "cell_type": "markdown",
      "metadata": {
        "id": "lL6Qek7jJBn-"
      },
      "source": [
        "Since our data has no null values and have the correct data format. we will now try to analyze the data."
      ]
    },
    {
      "cell_type": "markdown",
      "metadata": {
        "id": "61ST7COFJbgG"
      },
      "source": [
        "##4. ANALYZING DATA##"
      ]
    },
    {
      "cell_type": "code",
      "metadata": {
        "id": "li0NzIVALffO",
        "colab": {
          "base_uri": "https://localhost:8080/",
          "height": 312
        },
        "outputId": "28b4a1f8-dff9-4088-b899-f2b4a70f3913"
      },
      "source": [
        "#Scatter Plot\r\n",
        "x=dataset[\"Hours\"]\r\n",
        "y=dataset[\"Scores\"]\r\n",
        "plt.scatter(x,y)\r\n",
        "plt.title(\"Scatterplot of Hours vs Scores\")\r\n",
        "plt.xlabel(\"Hours studied\")\r\n",
        "plt.ylabel(\"Percentage score\")"
      ],
      "execution_count": 7,
      "outputs": [
        {
          "output_type": "execute_result",
          "data": {
            "text/plain": [
              "Text(0, 0.5, 'Percentage score')"
            ]
          },
          "metadata": {
            "tags": []
          },
          "execution_count": 7
        },
        {
          "output_type": "display_data",
          "data": {
            "image/png": "[encoded data removed]",
            "text/plain": [
              "<Figure size 432x288 with 1 Axes>"
            ]
          },
          "metadata": {
            "tags": [],
            "needs_background": "light"
          }
        }
      ]
    },
    {
      "cell_type": "code",
      "metadata": {
        "colab": {
          "base_uri": "https://localhost:8080/",
          "height": 279
        },
        "id": "RrxruDFfDfjq",
        "outputId": "392c61f9-150b-499c-fd0a-d1c89a55ca02"
      },
      "source": [
        "#Regression Plot\r\n",
        "sns.regplot(x=\"Hours\",y=\"Scores\",data=dataset)\r\n",
        "plt.show()\r\n"
      ],
      "execution_count": 8,
      "outputs": [
        {
          "output_type": "display_data",
          "data": {
            "image/png": "[encoded data removed]",
            "text/plain": [
              "<Figure size 432x288 with 1 Axes>"
            ]
          },
          "metadata": {
            "tags": [],
            "needs_background": "light"
          }
        }
      ]
    },
    {
      "cell_type": "code",
      "metadata": {
        "colab": {
          "base_uri": "https://localhost:8080/",
          "height": 374
        },
        "id": "CUqHHl8aPdwb",
        "outputId": "4003bbb3-92e3-4e9f-f0eb-0f1719e69809"
      },
      "source": [
        "# pairplot\r\n",
        "sns.pairplot(dataset)\r\n",
        "plt.show()"
      ],
      "execution_count": 9,
      "outputs": [
        {
          "output_type": "display_data",
          "data": {
            "image/png": "[encoded data removed]",
            "text/plain": [
              "<Figure size 360x360 with 6 Axes>"
            ]
          },
          "metadata": {
            "tags": [],
            "needs_background": "light"
          }
        }
      ]
    },
    {
      "cell_type": "code",
      "metadata": {
        "colab": {
          "base_uri": "https://localhost:8080/",
          "height": 388
        },
        "id": "uSqgFRddGdnu",
        "outputId": "0fbc6452-e4a3-4410-aeba-ca752af286b7"
      },
      "source": [
        "# residual plot\r\n",
        "width = 6\r\n",
        "height = 5\r\n",
        "plt.figure(figsize = (width, height))\r\n",
        "sns.residplot(x,y)\r\n",
        "plt.show()"
      ],
      "execution_count": 10,
      "outputs": [
        {
          "output_type": "stream",
          "text": [
            "/usr/local/lib/python3.6/dist-packages/seaborn/_decorators.py:43: FutureWarning: Pass the following variables as keyword args: x, y. From version 0.12, the only valid positional argument will be `data`, and passing other arguments without an explicit keyword will result in an error or misinterpretation.\n",
            "  FutureWarning\n"
          ],
          "name": "stderr"
        },
        {
          "output_type": "display_data",
          "data": {
            "image/png": "[encoded data removed]",
            "text/plain": [
              "<Figure size 432x360 with 1 Axes>"
            ]
          },
          "metadata": {
            "tags": [],
            "needs_background": "light"
          }
        }
      ]
    },
    {
      "cell_type": "markdown",
      "metadata": {
        "id": "BvSstFJILjso"
      },
      "source": [
        "##5. DESCRIPTIVE DATA ANALYSIS##"
      ]
    },
    {
      "cell_type": "markdown",
      "metadata": {
        "id": "FHAHIWcfL6Mo"
      },
      "source": [
        "Here, we will try to check the correlation between the two variables i.e Hours and Scores"
      ]
    },
    {
      "cell_type": "code",
      "metadata": {
        "colab": {
          "base_uri": "https://localhost:8080/",
          "height": 297
        },
        "id": "sAAxlPg-3vCp",
        "outputId": "7f94356c-30d4-4870-9331-98528cedb135"
      },
      "source": [
        "dataset.describe()"
      ],
      "execution_count": 11,
      "outputs": [
        {
          "output_type": "execute_result",
          "data": {
            "text/html": [
              "<div>\n",
              "<style scoped>\n",
              "    .dataframe tbody tr th:only-of-type {\n",
              "        vertical-align: middle;\n",
              "    }\n",
              "\n",
              "    .dataframe tbody tr th {\n",
              "        vertical-align: top;\n",
              "    }\n",
              "\n",
              "    .dataframe thead th {\n",
              "        text-align: right;\n",
              "    }\n",
              "</style>\n",
              "<table border=\"1\" class=\"dataframe\">\n",
              "  <thead>\n",
              "    <tr style=\"text-align: right;\">\n",
              "      <th></th>\n",
              "      <th>Hours</th>\n",
              "      <th>Scores</th>\n",
              "    </tr>\n",
              "  </thead>\n",
              "  <tbody>\n",
              "    <tr>\n",
              "      <th>count</th>\n",
              "      <td>25.000000</td>\n",
              "      <td>25.000000</td>\n",
              "    </tr>\n",
              "    <tr>\n",
              "      <th>mean</th>\n",
              "      <td>5.012000</td>\n",
              "      <td>51.480000</td>\n",
              "    </tr>\n",
              "    <tr>\n",
              "      <th>std</th>\n",
              "      <td>2.525094</td>\n",
              "      <td>25.286887</td>\n",
              "    </tr>\n",
              "    <tr>\n",
              "      <th>min</th>\n",
              "      <td>1.100000</td>\n",
              "      <td>17.000000</td>\n",
              "    </tr>\n",
              "    <tr>\n",
              "      <th>25%</th>\n",
              "      <td>2.700000</td>\n",
              "      <td>30.000000</td>\n",
              "    </tr>\n",
              "    <tr>\n",
              "      <th>50%</th>\n",
              "      <td>4.800000</td>\n",
              "      <td>47.000000</td>\n",
              "    </tr>\n",
              "    <tr>\n",
              "      <th>75%</th>\n",
              "      <td>7.400000</td>\n",
              "      <td>75.000000</td>\n",
              "    </tr>\n",
              "    <tr>\n",
              "      <th>max</th>\n",
              "      <td>9.200000</td>\n",
              "      <td>95.000000</td>\n",
              "    </tr>\n",
              "  </tbody>\n",
              "</table>\n",
              "</div>"
            ],
            "text/plain": [
              "           Hours     Scores\n",
              "count  25.000000  25.000000\n",
              "mean    5.012000  51.480000\n",
              "std     2.525094  25.286887\n",
              "min     1.100000  17.000000\n",
              "25%     2.700000  30.000000\n",
              "50%     4.800000  47.000000\n",
              "75%     7.400000  75.000000\n",
              "max     9.200000  95.000000"
            ]
          },
          "metadata": {
            "tags": []
          },
          "execution_count": 11
        }
      ]
    },
    {
      "cell_type": "code",
      "metadata": {
        "colab": {
          "base_uri": "https://localhost:8080/",
          "height": 111
        },
        "id": "M-fboU9zGwwx",
        "outputId": "74a1f9a0-a522-4eca-bb19-f7b7527b0864"
      },
      "source": [
        "# Correlation\r\n",
        "corrmat=dataset.corr()\r\n",
        "corrmat"
      ],
      "execution_count": 12,
      "outputs": [
        {
          "output_type": "execute_result",
          "data": {
            "text/html": [
              "<div>\n",
              "<style scoped>\n",
              "    .dataframe tbody tr th:only-of-type {\n",
              "        vertical-align: middle;\n",
              "    }\n",
              "\n",
              "    .dataframe tbody tr th {\n",
              "        vertical-align: top;\n",
              "    }\n",
              "\n",
              "    .dataframe thead th {\n",
              "        text-align: right;\n",
              "    }\n",
              "</style>\n",
              "<table border=\"1\" class=\"dataframe\">\n",
              "  <thead>\n",
              "    <tr style=\"text-align: right;\">\n",
              "      <th></th>\n",
              "      <th>Hours</th>\n",
              "      <th>Scores</th>\n",
              "    </tr>\n",
              "  </thead>\n",
              "  <tbody>\n",
              "    <tr>\n",
              "      <th>Hours</th>\n",
              "      <td>1.000000</td>\n",
              "      <td>0.976191</td>\n",
              "    </tr>\n",
              "    <tr>\n",
              "      <th>Scores</th>\n",
              "      <td>0.976191</td>\n",
              "      <td>1.000000</td>\n",
              "    </tr>\n",
              "  </tbody>\n",
              "</table>\n",
              "</div>"
            ],
            "text/plain": [
              "           Hours    Scores\n",
              "Hours   1.000000  0.976191\n",
              "Scores  0.976191  1.000000"
            ]
          },
          "metadata": {
            "tags": []
          },
          "execution_count": 12
        }
      ]
    },
    {
      "cell_type": "code",
      "metadata": {
        "colab": {
          "base_uri": "https://localhost:8080/",
          "height": 324
        },
        "id": "2t0qGTMzEqTr",
        "outputId": "01efeaa7-c3cc-42f3-8ac0-7c6cd15a5e87"
      },
      "source": [
        "# plotting Heatmap\r\n",
        "plt.figure(figsize=(6,5))\r\n",
        "sns.heatmap(corrmat,annot=True,cmap=\"RdYlGn\")\r\n",
        "plt.show()\r\n"
      ],
      "execution_count": 13,
      "outputs": [
        {
          "output_type": "display_data",
          "data": {
            "image/png": "[encoded data removed]",
            "text/plain": [
              "<Figure size 432x360 with 2 Axes>"
            ]
          },
          "metadata": {
            "tags": [],
            "needs_background": "light"
          }
        }
      ]
    },
    {
      "cell_type": "code",
      "metadata": {
        "colab": {
          "base_uri": "https://localhost:8080/"
        },
        "id": "TShJmDmgFKV-",
        "outputId": "1438805e-20a7-45fb-dbd5-d7df5418bd57"
      },
      "source": [
        "# Checking for the values of Pearson coeffecient and p-value.\r\n",
        "from scipy import stats\r\n",
        "pearson_coef,p_value = stats.pearsonr(dataset[\"Hours\"],dataset[\"Scores\"])\r\n",
        "print(\" The Pearson correlation coefficient is\",pearson_coef ,\"with a p value of \" , p_value)"
      ],
      "execution_count": 14,
      "outputs": [
        {
          "output_type": "stream",
          "text": [
            " The Pearson correlation coefficient is 0.9761906560220884 with a p value of  9.132624467460325e-17\n"
          ],
          "name": "stdout"
        }
      ]
    },
    {
      "cell_type": "markdown",
      "metadata": {
        "id": "6YJhH1KOMi2D"
      },
      "source": [
        "Pearson coeffecient is very near to 1 and p-value seems < 0.001 which shows that there is a strong positive correlation between Hours and scores."
      ]
    },
    {
      "cell_type": "markdown",
      "metadata": {
        "id": "SqHNGUSINKlJ"
      },
      "source": [
        "##6. MODEL DEVELOPMENT##"
      ]
    },
    {
      "cell_type": "markdown",
      "metadata": {
        "id": "AhClxsr84kQd"
      },
      "source": [
        "Here, we will use Simple Linear Regression for prediction.\r\n",
        "\r\n",
        "Simple Linear Regression (SLR):-\r\n",
        " \r\n",
        "It takes two values:\r\n",
        "1. The predictor variable - X (Hours)\r\n",
        "2. The target variable - Y (Scores)\r\n",
        "\r\n",
        "       \r\n",
        "   Y=  mx+c\r\n",
        "   \r\n",
        "where-\r\n",
        "\r\n",
        "m = model parameters\r\n",
        "\r\n",
        "c = intercept\r\n",
        "\r\n",
        "Y = Scores\r\n",
        "\r\n",
        "X = Hours\r\n",
        "\r\n",
        "       "
      ]
    },
    {
      "cell_type": "code",
      "metadata": {
        "id": "utuu51YlQloN"
      },
      "source": [
        "# importing sklearn libraries.\r\n",
        "from sklearn.linear_model import LinearRegression\r\n",
        "from sklearn.model_selection import train_test_split\r\n",
        "from sklearn.metrics import r2_score\r\n",
        "from sklearn.metrics import mean_squared_error"
      ],
      "execution_count": 15,
      "outputs": []
    },
    {
      "cell_type": "code",
      "metadata": {
        "id": "MrF_kgjXIE-a"
      },
      "source": [
        "# this will create a numpy array of features\r\n",
        "X= dataset[\"Hours\"].values.reshape(-1,1) \r\n",
        "Y= dataset[\"Scores\"].values.reshape(-1,1)"
      ],
      "execution_count": 16,
      "outputs": []
    },
    {
      "cell_type": "code",
      "metadata": {
        "id": "hT163ZIxQV35"
      },
      "source": [
        "#Splitting the data into train and test set\r\n",
        "X_train,X_test,Y_train,Y_test = train_test_split(X,Y,test_size=0.20,random_state=0)"
      ],
      "execution_count": 17,
      "outputs": []
    },
    {
      "cell_type": "code",
      "metadata": {
        "colab": {
          "base_uri": "https://localhost:8080/"
        },
        "id": "L6EMzrgeQcqc",
        "outputId": "9a34c439-585e-4210-cf35-fcff3f48a9a2"
      },
      "source": [
        "# printing the shapes of train and test set\r\n",
        "print(\"shape of X_train :\",X_train.shape)\r\n",
        "print(\"shape of Y_train :\",Y_train.shape)\r\n",
        "print(\"Shape of X_test :\" ,X_test.shape)\r\n",
        "print(\"Shape of Y_test :\",Y_test.shape)"
      ],
      "execution_count": 18,
      "outputs": [
        {
          "output_type": "stream",
          "text": [
            "shape of X_train : (20, 1)\n",
            "shape of Y_train : (20, 1)\n",
            "Shape of X_test : (5, 1)\n",
            "Shape of Y_test : (5, 1)\n"
          ],
          "name": "stdout"
        }
      ]
    },
    {
      "cell_type": "code",
      "metadata": {
        "id": "dtME2p-PRHky"
      },
      "source": [
        "# Creating a model object\r\n",
        "lm=LinearRegression()"
      ],
      "execution_count": 19,
      "outputs": []
    },
    {
      "cell_type": "code",
      "metadata": {
        "colab": {
          "base_uri": "https://localhost:8080/"
        },
        "id": "ORuJ9SFwR1zG",
        "outputId": "b11156f9-caa1-4725-b693-f0a8b1ad8710"
      },
      "source": [
        "# fitting a model\r\n",
        "lm.fit(X_train,Y_train)"
      ],
      "execution_count": 20,
      "outputs": [
        {
          "output_type": "execute_result",
          "data": {
            "text/plain": [
              "LinearRegression(copy_X=True, fit_intercept=True, n_jobs=None, normalize=False)"
            ]
          },
          "metadata": {
            "tags": []
          },
          "execution_count": 20
        }
      ]
    },
    {
      "cell_type": "code",
      "metadata": {
        "colab": {
          "base_uri": "https://localhost:8080/"
        },
        "id": "Z02bSQgvBvdq",
        "outputId": "690ebff5-ad97-45a1-adc7-c82c91679fc2"
      },
      "source": [
        "lm.intercept_"
      ],
      "execution_count": 21,
      "outputs": [
        {
          "output_type": "execute_result",
          "data": {
            "text/plain": [
              "array([2.01816004])"
            ]
          },
          "metadata": {
            "tags": []
          },
          "execution_count": 21
        }
      ]
    },
    {
      "cell_type": "code",
      "metadata": {
        "colab": {
          "base_uri": "https://localhost:8080/"
        },
        "id": "nxYP25mXEaBU",
        "outputId": "45e045c7-3b98-4c1a-b6f3-3cba98342d9b"
      },
      "source": [
        "lm.coef_"
      ],
      "execution_count": 22,
      "outputs": [
        {
          "output_type": "execute_result",
          "data": {
            "text/plain": [
              "array([[9.91065648]])"
            ]
          },
          "metadata": {
            "tags": []
          },
          "execution_count": 22
        }
      ]
    },
    {
      "cell_type": "markdown",
      "metadata": {
        "id": "NOzG_yKiLiys"
      },
      "source": [
        "##7. MAKING PREDICTIONS"
      ]
    },
    {
      "cell_type": "code",
      "metadata": {
        "id": "WBadBqDaIk0M"
      },
      "source": [
        "# prediction using a model\r\n",
        "Y_pred = lm.predict(X_test)"
      ],
      "execution_count": 23,
      "outputs": []
    },
    {
      "cell_type": "markdown",
      "metadata": {
        "id": "rsOTvh__MN0l"
      },
      "source": [
        "***To predict the score of a student on 9.25 hours.*** "
      ]
    },
    {
      "cell_type": "code",
      "metadata": {
        "colab": {
          "base_uri": "https://localhost:8080/"
        },
        "id": "PEdDbm6hMDpp",
        "outputId": "b249f78d-47ec-4a33-fb63-95176213b37d"
      },
      "source": [
        "# prediction:\r\n",
        "hrs =[[9.25]]\r\n",
        "pred = lm.predict(hrs)\r\n",
        "print(\"The predicted score of a student is {}\".format(pred[0]))"
      ],
      "execution_count": 24,
      "outputs": [
        {
          "output_type": "stream",
          "text": [
            "The predicted score of a student is [93.69173249]\n"
          ],
          "name": "stdout"
        }
      ]
    },
    {
      "cell_type": "markdown",
      "metadata": {
        "id": "UZBfUKzeJQra"
      },
      "source": [
        "##8. MODEL EVALUATION "
      ]
    },
    {
      "cell_type": "markdown",
      "metadata": {
        "id": "BUHSUCfoN_9R"
      },
      "source": [
        "To determine how accurate our model is, we will find out :\r\n",
        "\r\n",
        "1. R-squared\r\n",
        "2. Mean squared error(MSE)\r\n",
        "\r\n",
        "1.R-squared - It is a measure to indicate how close the data is to the fitted line.\r\n",
        "\r\n",
        "2.MSE - It measures the difference between actual value and the estimated value."
      ]
    },
    {
      "cell_type": "code",
      "metadata": {
        "colab": {
          "base_uri": "https://localhost:8080/"
        },
        "id": "FjYO5B6-SA_9",
        "outputId": "bafe01f5-f1a8-46aa-9510-dddce314b8e5"
      },
      "source": [
        "print(\"Mean squared error : \", mean_squared_error(Y_test,Y_pred))\r\n",
        "print(\"R score : \", r2_score(Y_test,Y_pred))"
      ],
      "execution_count": 25,
      "outputs": [
        {
          "output_type": "stream",
          "text": [
            "Mean squared error :  21.598769307217456\n",
            "R score :  0.9454906892105354\n"
          ],
          "name": "stdout"
        }
      ]
    },
    {
      "cell_type": "markdown",
      "metadata": {
        "id": "lLz7leJjUogx"
      },
      "source": [
        "##9. CONCLUSION"
      ]
    },
    {
      "cell_type": "markdown",
      "metadata": {
        "id": "WUNebQynVBzH"
      },
      "source": [
        "Hence, the predicted score of a student using simple linear regression is 93.69173249"
      ]
    }
  ]
}